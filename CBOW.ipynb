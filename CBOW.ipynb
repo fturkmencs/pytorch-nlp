{
 "cells": [
  {
   "cell_type": "code",
   "execution_count": 22,
   "id": "1dcb163b",
   "metadata": {},
   "outputs": [
    {
     "name": "stderr",
     "output_type": "stream",
     "text": [
      "[nltk_data] Downloading package punkt to\n",
      "[nltk_data]     C:\\Users\\furka\\AppData\\Roaming\\nltk_data...\n",
      "[nltk_data]   Package punkt is already up-to-date!\n"
     ]
    },
    {
     "data": {
      "text/plain": [
       "True"
      ]
     },
     "execution_count": 22,
     "metadata": {},
     "output_type": "execute_result"
    }
   ],
   "source": [
    "from nltk.tokenize import word_tokenize\n",
    "import nltk\n",
    "import re\n",
    "import numpy as np\n",
    "from collections import defaultdict\n",
    "nltk.download('punkt')"
   ]
  },
  {
   "cell_type": "code",
   "execution_count": 18,
   "id": "5d52a8b1",
   "metadata": {},
   "outputs": [],
   "source": [
    "def get_data():\n",
    "    with open(\"data/shakespeare.txt\") as f:\n",
    "        text = f.read()\n",
    "    text = re.sub(r\"[,!?;-]\", \".\", text)  \n",
    "    data = word_tokenize(text)\n",
    "    data = [w.lower() for w in data if w.isalpha() or w == \".\"]\n",
    "    return data"
   ]
  },
  {
   "cell_type": "code",
   "execution_count": 4,
   "id": "dc35ce14",
   "metadata": {},
   "outputs": [],
   "source": [
    "def get_dict(data):\n",
    "    vocab = sorted(list(set(data)))\n",
    "    word2Ind = {}\n",
    "    Ind2word = {}\n",
    "    idx = 0\n",
    "    for word in vocab:\n",
    "        word2Ind[word] = idx\n",
    "        Ind2word[idx] = word\n",
    "        idx += 1\n",
    "    return word2Ind, Ind2word"
   ]
  },
  {
   "cell_type": "code",
   "execution_count": 5,
   "id": "c049cdbd",
   "metadata": {},
   "outputs": [],
   "source": [
    "def initialize_model(N,V):\n",
    "    '''\n",
    "    Inputs: \n",
    "        N:  dimension of hidden vector \n",
    "        V:  dimension of vocabulary\n",
    "        random_seed: random seed for consistent results in the unit tests\n",
    "     Outputs: \n",
    "        W1, W2, b1, b2: initialized weights and biases\n",
    "    '''\n",
    "    W1 = np.random.rand(N, V)\n",
    "    b1 = np.random.rand(N, 1)\n",
    "    W2 = np.random.rand(V, N)\n",
    "    b2 = np.random.rand(V, 1)\n",
    "    \n",
    "    return W1, W2, b1, b2"
   ]
  },
  {
   "cell_type": "code",
   "execution_count": 6,
   "id": "4360faa4",
   "metadata": {},
   "outputs": [],
   "source": [
    "def softmax(z):\n",
    "    '''\n",
    "    Inputs: \n",
    "        z: output scores from the hidden layer\n",
    "    Outputs: \n",
    "        yhat: prediction (estimate of y)\n",
    "    '''\n",
    "    yhat = np.exp(z) / np.sum(np.exp(z), axis = 0, keepdims = True)\n",
    "    return yhat"
   ]
  },
  {
   "cell_type": "code",
   "execution_count": 7,
   "id": "2bc5a22d",
   "metadata": {},
   "outputs": [],
   "source": [
    "def forward_prop(x, W1, W2, b1, b2):\n",
    "    '''\n",
    "    Inputs: \n",
    "        x:  average one hot vector for the context \n",
    "        W1, W2, b1, b2:  matrices and biases to be learned\n",
    "     Outputs: \n",
    "        z:  output score vector\n",
    "    '''\n",
    "    h = np.dot(W1, x) + b1\n",
    "    h = np.maximum(0, h)\n",
    "    z = np.dot(W2, h) + b2\n",
    "    return z, h"
   ]
  },
  {
   "cell_type": "code",
   "execution_count": 8,
   "id": "aeaf1b4d",
   "metadata": {},
   "outputs": [],
   "source": [
    "def compute_cost(y, yhat, batch_size):\n",
    "    logprobs = np.multiply(np.log(yhat), y)\n",
    "    cost = - (1/batch_size) * np.sum(logprobs)\n",
    "    cost = np.squeeze(cost)\n",
    "    return cost"
   ]
  },
  {
   "cell_type": "code",
   "execution_count": 23,
   "id": "fd2c9912",
   "metadata": {},
   "outputs": [],
   "source": [
    "def get_idx(context_words, word2Ind):\n",
    "    \"\"\"\n",
    "    Inputs:\n",
    "        context_word:\n",
    "        word2Ind\n",
    "    Outputs:\n",
    "        idxs : kelimelerin idx karsiligi liste\n",
    "    \"\"\"\n",
    "    idxs = []\n",
    "    for word in context_words:\n",
    "        idxs.append(word2Ind[word])\n",
    "    return idxs\n"
   ]
  },
  {
   "cell_type": "code",
   "execution_count": 32,
   "id": "26ea05b6",
   "metadata": {},
   "outputs": [],
   "source": [
    "def pack_idx_with_frequency(context_words, word2Ind):\n",
    "    \"\"\"\n",
    "    Inputs:\n",
    "        context_words : center word oncesi ve sonraki kelimler\n",
    "        word2Ind : kelimlerin karsiliginda indexlere sahip dict\n",
    "    Outputs:\n",
    "        \n",
    "    \"\"\"\n",
    "    \n",
    "    freq_dict = defaultdict(int)\n",
    "    for word in context_words:\n",
    "        freq_dict[word] += 1\n",
    "    idxs = get_idx(context_words, word2Ind)\n",
    "    packed = []\n",
    "    for i in range(len(idxs)):\n",
    "        idx = idxs[i]\n",
    "        freq = freq_dict[context_words[i]]\n",
    "        packed.append((idx, freq))\n",
    "    return packed"
   ]
  },
  {
   "cell_type": "code",
   "execution_count": 33,
   "id": "9189125d",
   "metadata": {},
   "outputs": [],
   "source": [
    "def get_vectors(data, word2Ind, V, C):\n",
    "    \"\"\"\n",
    "    Inputs:\n",
    "        data : corpus\n",
    "        word2Ind : kelimlerin karsiliginda indexlere sahip dict\n",
    "        V : vocablary\n",
    "        C : context half size\n",
    "    Outputs:\n",
    "        x : context'de bulunan kelimlerin one-hot toplamlari / context_size\n",
    "        y : center word one-hot vektor\n",
    "    \"\"\"\n",
    "    i = C # center word i ile takip edilir\n",
    "    while True:\n",
    "        y = np.zeros(V)\n",
    "        x = np.zeros(V)\n",
    "        center_word = data[i]\n",
    "        y[word2Ind[center_word]] = 1\n",
    "        context_words = data[i - 2: i] + data[i + 1 : i + 1 + C]\n",
    "        context_len = len(context_words)\n",
    "        for idx, freq in pack_idx_with_frequency(context_words, word2Ind):\n",
    "            x[idx] = freq / context_len\n",
    "        yield x, y\n",
    "        i += 1\n",
    "        if i >= len(data):\n",
    "            i = 0\n",
    "            print(\"i'ye 0 atandi\")"
   ]
  },
  {
   "cell_type": "code",
   "execution_count": 34,
   "id": "24689f0a",
   "metadata": {},
   "outputs": [],
   "source": [
    "def get_batches(data, word2Ind, V, C, batch_size):\n",
    "    \"\"\"\n",
    "    data : corpus\n",
    "    word2Ind : Kelimlerin indexlerine sahip bir dict\n",
    "    V : Vocablary\n",
    "    C : context half size\n",
    "    batch_size : Modele verilecek girdi sayisi\n",
    "    \"\"\"\n",
    "    batch_x = []\n",
    "    batch_y = []\n",
    "    for x, y in get_vectors(data, word2Ind, V, C):\n",
    "        while len(batch_x) < batch_size:\n",
    "            batch_x.append(x)\n",
    "            batch_y.append(y)\n",
    "        else:\n",
    "            yield np.array(batch_x).T, np.array(batch_y).T\n",
    "            batch_x = []\n",
    "            batch_y = []\n",
    "        "
   ]
  },
  {
   "cell_type": "markdown",
   "id": "d0629fa6",
   "metadata": {},
   "source": [
    "### Test All Functions"
   ]
  },
  {
   "cell_type": "code",
   "execution_count": 37,
   "id": "ce1b7d3f",
   "metadata": {},
   "outputs": [
    {
     "name": "stdout",
     "output_type": "stream",
     "text": [
      "(5775, 4) (5775, 4)\n",
      "12.812297426050804\n"
     ]
    }
   ],
   "source": [
    "data = get_data()\n",
    "word2Ind, Ind2word = get_dict(data)\n",
    "tmp_V = len(word2Ind)\n",
    "tmp_C = 2\n",
    "tmp_N = 50\n",
    "tmp_batch_size = 4\n",
    "\n",
    "tmp_x, tmp_y = next(get_batches(data, word2Ind, tmp_V, tmp_C, tmp_batch_size))\n",
    "print(tmp_x.shape, tmp_y.shape)\n",
    "\n",
    "\n",
    "W1, W2, b1, b2 = initialize_model(tmp_N, tmp_V)\n",
    "tmp_z, tmp_h = forward_prop(tmp_x, W1, W2, b1, b2)\n",
    "tmp_yhat = softmax(tmp_z)\n",
    "tmp_cost = compute_cost(tmp_y, tmp_yhat, tmp_batch_size)\n",
    "print(tmp_cost)"
   ]
  },
  {
   "cell_type": "markdown",
   "id": "5d566f62",
   "metadata": {},
   "source": [
    "## Backpropagation\n",
    "\n",
    "\\begin{align}\n",
    " \\frac{\\partial J}{\\partial \\mathbf{W_1}} &= \\rm{ReLU}\\left ( \\mathbf{W_2^\\top} (\\mathbf{\\hat{y}} - \\mathbf{y})\\right )\\mathbf{x}^\\top \\tag{1}\\\\\n",
    " \\frac{\\partial J}{\\partial \\mathbf{W_2}} &= (\\mathbf{\\hat{y}} - \\mathbf{y})\\mathbf{h^\\top} \\tag{1}\\\\\n",
    " \\frac{\\partial J}{\\partial \\mathbf{b_1}} &= \\rm{ReLU}\\left ( \\mathbf{W_2^\\top} (\\mathbf{\\hat{y}} - \\mathbf{y})\\right ) \\tag{3}\\\\\n",
    " \\frac{\\partial J}{\\partial \\mathbf{b_2}} &= \\mathbf{\\hat{y}} - \\mathbf{y} \\tag{4}\n",
    "\\end{align}\n"
   ]
  },
  {
   "cell_type": "markdown",
   "id": "44e36a2a",
   "metadata": {},
   "source": [
    "### Ustteki backprop islemi tek bir ifade icin batch icin alinirsa belli degisiklikler olacaktir"
   ]
  },
  {
   "cell_type": "code",
   "execution_count": 60,
   "id": "f2ca4f14",
   "metadata": {},
   "outputs": [],
   "source": [
    "def back_prop(x, yhat, y, h, W1, W2, b1, b2, batch_size):\n",
    "    '''\n",
    "    Inputs: \n",
    "        x:  average one hot vector for the context \n",
    "        yhat: prediction (estimate of y)\n",
    "        y:  target vector\n",
    "        h:  hidden vector (see eq. 1)\n",
    "        W1, W2, b1, b2:  matrices and biases  \n",
    "        batch_size: batch size \n",
    "     Outputs: \n",
    "        grad_W1, grad_W2, grad_b1, grad_b2:  gradients of matrices and biases   \n",
    "    '''\n",
    "    grad_W2 = (1 / batch_size) * np.dot(yhat - y, h.T)\n",
    "    grad_b2 = (1 / batch_size) * np.sum(yhat - y, axis = 1, keepdims=True)\n",
    "    grad_W1 = (1 / batch_size) * np.dot(np.maximum(0, np.dot(W2.T, yhat - y)), x.T)\n",
    "    grad_b1 = (1 / batch_size) * np.sum(np.maximum(0, np.dot(W2.T, yhat - y)), axis = 1, keepdims=True)\n",
    "    return grad_W1, grad_W2, grad_b1, grad_b2"
   ]
  },
  {
   "cell_type": "code",
   "execution_count": 61,
   "id": "0e39930b",
   "metadata": {},
   "outputs": [],
   "source": [
    "def update_parameters(parameters, grads, alpha):\n",
    "    W1, W2, b1, b2 = parameters\n",
    "    grad_W1, grad_W2, grad_b1, grad_b2 = grads\n",
    "    W1 = W1 - alpha * grad_W1\n",
    "    W2 = W2 - alpha * grad_W2\n",
    "    b1 = b1 - alpha * grad_b1\n",
    "    b2 = b2 - alpha * grad_b2\n",
    "    return W1, W2, b1, b2"
   ]
  },
  {
   "cell_type": "code",
   "execution_count": 65,
   "id": "60a14cf3",
   "metadata": {},
   "outputs": [],
   "source": [
    "def gradient_descent(data, word2Ind, N, V, num_iters, alpha=0.03, batch_size = 128, C = 2):\n",
    "    \n",
    "    '''\n",
    "    This is the gradient_descent function\n",
    "    \n",
    "      Inputs: \n",
    "        data:      text\n",
    "        word2Ind:  words to Indices\n",
    "        N:         dimension of hidden vector  \n",
    "        V:         dimension of vocabulary \n",
    "        num_iters: number of iterations \n",
    "        alpha : learning rate\n",
    "        batch_size : number of examples in each batch\n",
    "        C : context half size\n",
    "     Outputs: \n",
    "        W1, W2, b1, b2:  updated matrices and biases after num_iters iterations\n",
    "\n",
    "    '''\n",
    "    parameters = initialize_model(N, V)\n",
    "    \n",
    "    i = 0\n",
    "    for x, y in get_batches(data, word2Ind, V, C, batch_size):\n",
    "        z, h = forward_prop(x, *parameters)\n",
    "        yhat = softmax(z)\n",
    "        cost = compute_cost(y, yhat, batch_size)\n",
    "        grads = back_prop(x, yhat, y, h, *parameters, batch_size)\n",
    "        parameters = update_parameters(parameters, grads, alpha)\n",
    "        i += 1\n",
    "        if i == num_iters:\n",
    "            break\n",
    "        if (i + 1) % 10 == 0:\n",
    "            print(f\"{i+1}.iter Cost : {cost:.6f}\")\n",
    "        if i % 100 == 0:\n",
    "            alpha *= 0.66\n",
    "    return W1, W2, b1, b2"
   ]
  },
  {
   "cell_type": "code",
   "execution_count": 66,
   "id": "06d65e60",
   "metadata": {},
   "outputs": [],
   "source": [
    "data = get_data()\n",
    "word2Ind, Ind2word = get_dict(data)\n",
    "V = len(word2Ind)\n",
    "N = 50\n",
    "C = 2\n",
    "batch_size = 128\n",
    "alpha = 0.03\n",
    "num_iters = 150\n"
   ]
  },
  {
   "cell_type": "code",
   "execution_count": 67,
   "id": "1e6dbcfb",
   "metadata": {},
   "outputs": [
    {
     "name": "stdout",
     "output_type": "stream",
     "text": [
      "10.iter Cost : 7.919861\n",
      "20.iter Cost : 9.987556\n",
      "30.iter Cost : 9.420588\n",
      "40.iter Cost : 9.730634\n",
      "50.iter Cost : 7.951681\n",
      "60.iter Cost : 1.908529\n",
      "70.iter Cost : 1.691551\n",
      "80.iter Cost : 10.574863\n",
      "90.iter Cost : 8.802042\n",
      "100.iter Cost : 7.780031\n",
      "110.iter Cost : 12.238310\n",
      "120.iter Cost : 11.485120\n",
      "130.iter Cost : 9.196244\n",
      "140.iter Cost : 9.154715\n",
      "150.iter Cost : 7.964914\n"
     ]
    },
    {
     "data": {
      "text/plain": [
       "(array([[0.6219698 , 0.12671832, 0.64021677, ..., 0.14819813, 0.80576001,\n",
       "         0.81387778],\n",
       "        [0.30409119, 0.87743403, 0.27619172, ..., 0.36376133, 0.06986089,\n",
       "         0.4669891 ],\n",
       "        [0.03019791, 0.50882708, 0.44058658, ..., 0.30806755, 0.88930183,\n",
       "         0.28626545],\n",
       "        ...,\n",
       "        [0.41081758, 0.43521317, 0.87382505, ..., 0.34322489, 0.04860274,\n",
       "         0.46534924],\n",
       "        [0.23565185, 0.81324709, 0.28863926, ..., 0.30923743, 0.84514841,\n",
       "         0.22144138],\n",
       "        [0.39902241, 0.30826413, 0.54928167, ..., 0.12998885, 0.07113925,\n",
       "         0.23175899]]),\n",
       " array([[0.85062585, 0.19433653, 0.04235671, ..., 0.84236114, 0.80016593,\n",
       "         0.29392048],\n",
       "        [0.02274909, 0.99639508, 0.02554441, ..., 0.94838042, 0.81382462,\n",
       "         0.15721227],\n",
       "        [0.00897219, 0.82024191, 0.2140257 , ..., 0.62165875, 0.90084365,\n",
       "         0.09101711],\n",
       "        ...,\n",
       "        [0.03522637, 0.64034248, 0.64632307, ..., 0.3075528 , 0.67987709,\n",
       "         0.59643766],\n",
       "        [0.62448305, 0.29742823, 0.55683552, ..., 0.08225942, 0.04195118,\n",
       "         0.25003154],\n",
       "        [0.02967369, 0.40398106, 0.44137213, ..., 0.90648067, 0.73090467,\n",
       "         0.99526432]]),\n",
       " array([[0.61032945],\n",
       "        [0.5358972 ],\n",
       "        [0.88322514],\n",
       "        [0.71856769],\n",
       "        [0.73295778],\n",
       "        [0.40554469],\n",
       "        [0.51909259],\n",
       "        [0.38541865],\n",
       "        [0.29916493],\n",
       "        [0.98148469],\n",
       "        [0.66443857],\n",
       "        [0.03374742],\n",
       "        [0.39923968],\n",
       "        [0.6352524 ],\n",
       "        [0.52397655],\n",
       "        [0.89299542],\n",
       "        [0.93250723],\n",
       "        [0.03426866],\n",
       "        [0.24584283],\n",
       "        [0.69623195],\n",
       "        [0.33589813],\n",
       "        [0.01775922],\n",
       "        [0.1969199 ],\n",
       "        [0.96315124],\n",
       "        [0.00166809],\n",
       "        [0.41191473],\n",
       "        [0.72388129],\n",
       "        [0.16446475],\n",
       "        [0.21121686],\n",
       "        [0.67647767],\n",
       "        [0.95408039],\n",
       "        [0.35058037],\n",
       "        [0.80821358],\n",
       "        [0.54117581],\n",
       "        [0.4906112 ],\n",
       "        [0.35974325],\n",
       "        [0.40722071],\n",
       "        [0.9422693 ],\n",
       "        [0.80615255],\n",
       "        [0.41648366],\n",
       "        [0.40882981],\n",
       "        [0.04963889],\n",
       "        [0.12799035],\n",
       "        [0.95953588],\n",
       "        [0.34496246],\n",
       "        [0.33763607],\n",
       "        [0.619731  ],\n",
       "        [0.72167394],\n",
       "        [0.94588638],\n",
       "        [0.02769827]]),\n",
       " array([[0.14180444],\n",
       "        [0.2678395 ],\n",
       "        [0.95445799],\n",
       "        ...,\n",
       "        [0.21701193],\n",
       "        [0.70085438],\n",
       "        [0.62933685]]))"
      ]
     },
     "execution_count": 67,
     "metadata": {},
     "output_type": "execute_result"
    }
   ],
   "source": [
    "gradient_descent(data, word2Ind, N, V, num_iters, alpha, batch_size, C)"
   ]
  },
  {
   "cell_type": "code",
   "execution_count": 74,
   "id": "396158cb",
   "metadata": {},
   "outputs": [
    {
     "name": "stdout",
     "output_type": "stream",
     "text": [
      "10.iter Cost : 10.814292\n",
      "20.iter Cost : 8.810384\n",
      "30.iter Cost : 11.351997\n",
      "40.iter Cost : 9.166524\n",
      "50.iter Cost : 12.098641\n",
      "60.iter Cost : 2.335376\n",
      "70.iter Cost : 1.993430\n",
      "80.iter Cost : 11.902983\n",
      "90.iter Cost : 9.226281\n",
      "100.iter Cost : 6.141662\n",
      "110.iter Cost : 8.760855\n",
      "120.iter Cost : 9.700995\n",
      "130.iter Cost : 6.349505\n",
      "140.iter Cost : 9.719155\n",
      "150.iter Cost : 8.535599\n"
     ]
    },
    {
     "data": {
      "text/plain": [
       "(array([[0.6219698 , 0.12671832, 0.64021677, ..., 0.14819813, 0.80576001,\n",
       "         0.81387778],\n",
       "        [0.30409119, 0.87743403, 0.27619172, ..., 0.36376133, 0.06986089,\n",
       "         0.4669891 ],\n",
       "        [0.03019791, 0.50882708, 0.44058658, ..., 0.30806755, 0.88930183,\n",
       "         0.28626545],\n",
       "        ...,\n",
       "        [0.41081758, 0.43521317, 0.87382505, ..., 0.34322489, 0.04860274,\n",
       "         0.46534924],\n",
       "        [0.23565185, 0.81324709, 0.28863926, ..., 0.30923743, 0.84514841,\n",
       "         0.22144138],\n",
       "        [0.39902241, 0.30826413, 0.54928167, ..., 0.12998885, 0.07113925,\n",
       "         0.23175899]]),\n",
       " array([[0.85062585, 0.19433653, 0.04235671, ..., 0.84236114, 0.80016593,\n",
       "         0.29392048],\n",
       "        [0.02274909, 0.99639508, 0.02554441, ..., 0.94838042, 0.81382462,\n",
       "         0.15721227],\n",
       "        [0.00897219, 0.82024191, 0.2140257 , ..., 0.62165875, 0.90084365,\n",
       "         0.09101711],\n",
       "        ...,\n",
       "        [0.03522637, 0.64034248, 0.64632307, ..., 0.3075528 , 0.67987709,\n",
       "         0.59643766],\n",
       "        [0.62448305, 0.29742823, 0.55683552, ..., 0.08225942, 0.04195118,\n",
       "         0.25003154],\n",
       "        [0.02967369, 0.40398106, 0.44137213, ..., 0.90648067, 0.73090467,\n",
       "         0.99526432]]),\n",
       " array([[0.61032945],\n",
       "        [0.5358972 ],\n",
       "        [0.88322514],\n",
       "        [0.71856769],\n",
       "        [0.73295778],\n",
       "        [0.40554469],\n",
       "        [0.51909259],\n",
       "        [0.38541865],\n",
       "        [0.29916493],\n",
       "        [0.98148469],\n",
       "        [0.66443857],\n",
       "        [0.03374742],\n",
       "        [0.39923968],\n",
       "        [0.6352524 ],\n",
       "        [0.52397655],\n",
       "        [0.89299542],\n",
       "        [0.93250723],\n",
       "        [0.03426866],\n",
       "        [0.24584283],\n",
       "        [0.69623195],\n",
       "        [0.33589813],\n",
       "        [0.01775922],\n",
       "        [0.1969199 ],\n",
       "        [0.96315124],\n",
       "        [0.00166809],\n",
       "        [0.41191473],\n",
       "        [0.72388129],\n",
       "        [0.16446475],\n",
       "        [0.21121686],\n",
       "        [0.67647767],\n",
       "        [0.95408039],\n",
       "        [0.35058037],\n",
       "        [0.80821358],\n",
       "        [0.54117581],\n",
       "        [0.4906112 ],\n",
       "        [0.35974325],\n",
       "        [0.40722071],\n",
       "        [0.9422693 ],\n",
       "        [0.80615255],\n",
       "        [0.41648366],\n",
       "        [0.40882981],\n",
       "        [0.04963889],\n",
       "        [0.12799035],\n",
       "        [0.95953588],\n",
       "        [0.34496246],\n",
       "        [0.33763607],\n",
       "        [0.619731  ],\n",
       "        [0.72167394],\n",
       "        [0.94588638],\n",
       "        [0.02769827]]),\n",
       " array([[0.14180444],\n",
       "        [0.2678395 ],\n",
       "        [0.95445799],\n",
       "        ...,\n",
       "        [0.21701193],\n",
       "        [0.70085438],\n",
       "        [0.62933685]]))"
      ]
     },
     "execution_count": 74,
     "metadata": {},
     "output_type": "execute_result"
    }
   ],
   "source": [
    "num_iters = 150\n",
    "alpha = 0.03\n",
    "gradient_descent(data, word2Ind, N, V, num_iters, alpha, batch_size, C)"
   ]
  },
  {
   "cell_type": "code",
   "execution_count": 75,
   "id": "adbc28d7",
   "metadata": {},
   "outputs": [
    {
     "name": "stdout",
     "output_type": "stream",
     "text": [
      "(10, 50) [2744, 3949, 2960, 3022, 5672, 1452, 5671, 4189, 2315, 4276]\n"
     ]
    }
   ],
   "source": [
    "# visualizing the word vectors here\n",
    "from matplotlib import pyplot\n",
    "%config InlineBackend.figure_format = 'svg'\n",
    "words = ['king', 'queen','lord','man', 'woman','dog','wolf',\n",
    "         'rich','happy','sad']\n",
    "\n",
    "embs = (W1.T + W2)/2.0 # bu satira dikkat burada embedding vektoru aliniyor.\n",
    " \n",
    "# given a list of words and the embeddings, it returns a matrix with all the embeddings\n",
    "idx = [word2Ind[word] for word in words]\n",
    "X = embs[idx, :]\n",
    "print(X.shape, idx)  # X.shape:  Number of words of dimension N each "
   ]
  },
  {
   "cell_type": "code",
   "execution_count": null,
   "id": "e3f93913",
   "metadata": {},
   "outputs": [],
   "source": []
  }
 ],
 "metadata": {
  "kernelspec": {
   "display_name": "Python 3 (ipykernel)",
   "language": "python",
   "name": "python3"
  },
  "language_info": {
   "codemirror_mode": {
    "name": "ipython",
    "version": 3
   },
   "file_extension": ".py",
   "mimetype": "text/x-python",
   "name": "python",
   "nbconvert_exporter": "python",
   "pygments_lexer": "ipython3",
   "version": "3.9.7"
  }
 },
 "nbformat": 4,
 "nbformat_minor": 5
}
